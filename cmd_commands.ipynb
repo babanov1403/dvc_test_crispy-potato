{
 "cells": [
  {
   "cell_type": "code",
   "execution_count": 20,
   "id": "5f18c7f7-c9c6-48df-99f3-cada78f60bd6",
   "metadata": {
    "tags": []
   },
   "outputs": [
    {
     "name": "stdout",
     "output_type": "stream",
     "text": [
      "Added stage 'test' in 'dvc.yaml'\n",
      "\n",
      "To track the changes with git, run:\n",
      "\n",
      "\tgit add dvc.yaml\n",
      "\n",
      "To enable auto staging, run:\n",
      "\n",
      "\tdvc config core.autostage true\n"
     ]
    }
   ],
   "source": [
    "!dvc stage add --name test --outs dvclive --force python main.py "
   ]
  },
  {
   "cell_type": "code",
   "execution_count": 21,
   "id": "9a6f79fe-13ce-497d-94fa-0d302d6c7158",
   "metadata": {
    "tags": []
   },
   "outputs": [
    {
     "name": "stdout",
     "output_type": "stream",
     "text": [
      "Reproducing experiment 'acred-barb'\n",
      "Running stage 'test':\n",
      "> python main.py\n",
      "Generating lock file 'dvc.lock'\n",
      "Updating lock file 'dvc.lock'\n",
      "\n",
      "Ran experiment(s): acred-barb\n",
      "Experiment results have been applied to your workspace.\n"
     ]
    },
    {
     "name": "stderr",
     "output_type": "stream",
     "text": [
      "WARNING: No file hash info found for 'D:\\jupyter\\dvc_iris_test\\dvclive'. It won't be created.\n"
     ]
    }
   ],
   "source": [
    "!dvc exp run"
   ]
  },
  {
   "cell_type": "code",
   "execution_count": 22,
   "id": "c8aa4a51-12b0-4007-ab7f-c7854e5a35ed",
   "metadata": {},
   "outputs": [
    {
     "name": "stdout",
     "output_type": "stream",
     "text": [
      "+---------------------------------------------------------------------------+\n",
      "| Experiment               | Created  | precision |  recall | step | epochs |\n",
      "|--------------------------+----------+-----------+---------+------+--------|\n",
      "| workspace                | -        |   0.97333 | 0.97333 |   99 | 1      |\n",
      "| master                   | 12:49 PM |         - |       - |    - | -      |\n",
      "| \\u251c\\u2500\\u2500 20e6d72 [acred-barb] | 07:05 PM |   0.97333 | 0.97333 |   99 | 1      |\n",
      "| \\u251c\\u2500\\u2500 7113855 [eaten-boff] | 07:04 PM |      0.96 |    0.96 |    3 | 1      |\n",
      "| \\u251c\\u2500\\u2500 be52dba [ohmic-razz] | 07:03 PM |      0.96 |    0.96 |    3 | 1      |\n",
      "| \\u251c\\u2500\\u2500 c460dbe [color-clip] | 07:00 PM |      0.96 |    0.96 |    3 | 1      |\n",
      "| \\u251c\\u2500\\u2500 a52ba43 [dying-yogi] | 06:56 PM |   0.97333 | 0.97333 |   99 | 1      |\n",
      "| \\u251c\\u2500\\u2500 0ef8481 [uveal-mope] | 06:53 PM |      0.96 |    0.96 |    3 | 1      |\n",
      "| \\u251c\\u2500\\u2500 73a4839 [flaky-sale] | 06:52 PM |      0.96 |    0.96 |    3 | 1      |\n",
      "| \\u251c\\u2500\\u2500 99a193d [swept-quad] | 06:49 PM |      0.96 |    0.96 |    3 | 1      |\n",
      "| \\u2514\\u2500\\u2500 48c0b9a [swept-mats] | 06:44 PM |      0.96 |    0.96 |    3 | 1      |\n",
      "+---------------------------------------------------------------------------+\n"
     ]
    }
   ],
   "source": [
    "!dvc exp show"
   ]
  },
  {
   "cell_type": "code",
   "execution_count": null,
   "id": "e8bca738-0f10-4800-aa97-feefdc072896",
   "metadata": {},
   "outputs": [],
   "source": []
  }
 ],
 "metadata": {
  "kernelspec": {
   "display_name": "Python 3 (ipykernel)",
   "language": "python",
   "name": "python3"
  },
  "language_info": {
   "codemirror_mode": {
    "name": "ipython",
    "version": 3
   },
   "file_extension": ".py",
   "mimetype": "text/x-python",
   "name": "python",
   "nbconvert_exporter": "python",
   "pygments_lexer": "ipython3",
   "version": "3.9.13"
  }
 },
 "nbformat": 4,
 "nbformat_minor": 5
}
